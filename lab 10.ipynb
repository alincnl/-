{
 "cells": [
  {
   "cell_type": "markdown",
   "id": "12dfc89b",
   "metadata": {},
   "source": [
    "## Лабораторная работа 10. Матчасть DL"
   ]
  },
  {
   "cell_type": "markdown",
   "id": "7322921d",
   "metadata": {},
   "source": [
    "### Реализовала нейронную сеть с архитектурой из трёх нейронов, предложенной в статье, с помощью классов Neuron и Model и их методов"
   ]
  },
  {
   "cell_type": "code",
   "execution_count": 72,
   "id": "825b386d",
   "metadata": {},
   "outputs": [
    {
     "name": "stdout",
     "output_type": "stream",
     "text": [
      "[0.05547053] [0.94889135] [0.94875859] [0.05532913]\n"
     ]
    }
   ],
   "source": [
    "inputs = np.array([[0,0],[0,1],[1,0],[1,1]])\n",
    "expected_output = np.array([[0],[1],[1],[0]])\n",
    "\n",
    "inputLayerNeurons, hiddenLayerNeurons, outputLayerNeurons = 2,2,1\n",
    "\n",
    "hidden_weights = np.random.uniform(size=(inputLayerNeurons,hiddenLayerNeurons))\n",
    "hidden_bias =np.random.uniform(size=(1,hiddenLayerNeurons))\n",
    "output_weights = np.random.uniform(size=(hiddenLayerNeurons,outputLayerNeurons))\n",
    "output_bias = np.random.uniform(size=(1,outputLayerNeurons))\n",
    "\n",
    "epochs = 10000\n",
    "lr = 0.1\n",
    "\n",
    "def sigmoid (x):\n",
    "    return 1/(1 + np.exp(-x))\n",
    "def sigmoid_derivative(x):\n",
    "    return x * (1 - x)\n",
    "\n",
    "class Neuron:\n",
    "    def __init__(self, w, b):\n",
    "        self.weights = w\n",
    "        self.bias = b\n",
    "        self.df = 0\n",
    "        \n",
    "    def forward(self, x):\n",
    "        return sigmoid(np.dot(x,self.weights)+self.bias)\n",
    "    \n",
    "    def backward(self, x, pred, loss):\n",
    "        global hidden_weights, output_weights,hidden_bias, output_bias\n",
    "        self.df = loss * sigmoid_derivative(x)\n",
    "        self.weights = pred.T.dot(self.df) * 0.1\n",
    "        self.bias = np.sum(self.df,axis=0,keepdims=True) * 0.1\n",
    "    \n",
    "class Model:\n",
    "    def __init__(self, a, b, c, d):\n",
    "        self._inputs = 0\n",
    "        self._hidden_weights = a\n",
    "        self._output_weights = b\n",
    "        self._hidden_bias = c\n",
    "        self._output_bias = d\n",
    "        self._hidden_layer_output = 0\n",
    "        self.h1 = Neuron(self._hidden_weights, self._hidden_bias)\n",
    "        self.o1 = Neuron(self._output_weights, self._output_bias)\n",
    "\n",
    "    def forward(self, x):\n",
    "        self._inputs = x\n",
    "        self._hidden_layer_output = self.h1.forward(x)\n",
    "        return self.o1.forward(self._hidden_layer_output)\n",
    "    \n",
    "    def backward(self, x, loss):\n",
    "        global hidden_weights, output_weights,hidden_bias, output_bias\n",
    "        self.o1.backward(x, self._hidden_layer_output, loss)\n",
    "        error_hidden_layer = self.o1.df.dot(output_weights.T)\n",
    "        output_weights += self.o1.weights\n",
    "        output_bias += self.o1.bias\n",
    "        self.h1.backward(self._hidden_layer_output, self._inputs, error_hidden_layer)\n",
    "        hidden_weights += self.h1.weights\n",
    "        hidden_bias += self.h1.bias\n",
    "\n",
    "def loss(y, label):\n",
    "    return label - y\n",
    "\n",
    "for _ in range(epochs):\n",
    "    model = Model(hidden_weights, output_weights,hidden_bias, output_bias )\n",
    "    y = model.forward(inputs)\n",
    "    err = loss(y, expected_output)\n",
    "    model.backward(y, err)\n",
    "print(*y)"
   ]
  },
  {
   "attachments": {
    "image.png": {
     "image/png": "[encoded data removed]"
    }
   },
   "cell_type": "markdown",
   "id": "27f50fcb",
   "metadata": {},
   "source": [
    "### В итоге обучения предсказываются значения, аналогичные статье: ![image.png](attachment:image.png)"
   ]
  }
 ],
 "metadata": {
  "kernelspec": {
   "display_name": "Python 3 (ipykernel)",
   "language": "python",
   "name": "python3"
  },
  "language_info": {
   "codemirror_mode": {
    "name": "ipython",
    "version": 3
   },
   "file_extension": ".py",
   "mimetype": "text/x-python",
   "name": "python",
   "nbconvert_exporter": "python",
   "pygments_lexer": "ipython3",
   "version": "3.9.12"
  }
 },
 "nbformat": 4,
 "nbformat_minor": 5
}
