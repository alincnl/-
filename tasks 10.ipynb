{
 "cells": [
  {
   "cell_type": "markdown",
   "id": "d21a82de",
   "metadata": {},
   "source": [
    "### 1.С помощью библиотеки numpy реализовать модель с прямым проходом, состоящую из 3 полносвязных слоёв с функциями потерь: ReLU, tanh, Softmax. Длины векторов на входе 256, на выходе 4, промежуточные: 64 и 16."
   ]
  },
  {
   "cell_type": "code",
   "execution_count": 268,
   "id": "912e8816",
   "metadata": {},
   "outputs": [],
   "source": [
    "import numpy as np\n",
    "import random\n",
    "import warnings\n",
    "warnings.filterwarnings('ignore')"
   ]
  },
  {
   "cell_type": "code",
   "execution_count": 40,
   "id": "34abcdda",
   "metadata": {},
   "outputs": [],
   "source": [
    "# инициализация исходных данных, весов на каждом слое\n",
    "input_size, h1_size, h2_size, out_size = 256, 64, 16, 4\n",
    "\n",
    "x = np.random.randn(input_size)\n",
    "\n",
    "W1 = np.random.randn(input_size, h1_size)\n",
    "W2 = np.random.randn(h1_size, h2_size)\n",
    "W3 = np.random.randn(h2_size, out_size)"
   ]
  },
  {
   "cell_type": "code",
   "execution_count": 41,
   "id": "ced6f8de",
   "metadata": {},
   "outputs": [],
   "source": [
    "# функции активации\n",
    "def relu(t):\n",
    "    return np.maximum(t,0)\n",
    "\n",
    "def tanh(t):\n",
    "    return (np.exp(t)-np.exp(-t))/(np.exp(t)+np.exp(-t))\n",
    "\n",
    "def softmax(t):\n",
    "    out = np.exp(t)\n",
    "    return out/np.sum(out)"
   ]
  },
  {
   "cell_type": "code",
   "execution_count": 42,
   "id": "d448f4ea",
   "metadata": {},
   "outputs": [
    {
     "name": "stdout",
     "output_type": "stream",
     "text": [
      "Result 1 layer:  \n",
      " [ 1.50495465 29.57903569  0.          0.8962552   0.          0.\n",
      "  0.          0.         16.32254145  0.          0.          0.\n",
      " 27.95105774  7.34052491  0.          0.          2.35886862  0.\n",
      "  0.          0.          7.70470132 13.15876874  0.07028834 16.45157248\n",
      "  6.97630032  7.88615722  0.         12.20056912  0.          0.\n",
      "  0.         26.02841913  0.          0.         21.60925088 47.09567231\n",
      " 19.90967021  6.51623539 26.70156257  0.          5.47276818  0.\n",
      "  0.          0.          0.          0.          0.          3.02997184\n",
      "  4.30634915  0.          0.          8.98628522  0.          0.51009178\n",
      "  7.56609695  0.          0.          4.16987472 42.5150136   0.\n",
      " 11.77882989 30.96572585 21.74034048 26.29836041]\n"
     ]
    }
   ],
   "source": [
    "# 1st layer\n",
    "t1 = np.dot(x,W1)\n",
    "h1 = relu(t1)\n",
    "print(\"Result 1 layer: \", '\\n', h1)"
   ]
  },
  {
   "cell_type": "code",
   "execution_count": 43,
   "id": "2d863ee9",
   "metadata": {},
   "outputs": [
    {
     "name": "stdout",
     "output_type": "stream",
     "text": [
      "Result 2 layer:  \n",
      " [-1. -1.  1.  1.  1.  1. -1.  1. -1. -1.  1.  1. -1. -1. -1.  1.]\n"
     ]
    }
   ],
   "source": [
    "# 2nd layer\n",
    "t2 = np.dot(h1,W2)\n",
    "h2 = tanh(t2)\n",
    "print(\"Result 2 layer: \",'\\n', h2)"
   ]
  },
  {
   "cell_type": "code",
   "execution_count": 25,
   "id": "ec55d2a7",
   "metadata": {},
   "outputs": [
    {
     "name": "stdout",
     "output_type": "stream",
     "text": [
      "Result 3 layer:  [0.0015802  0.87196204 0.09855957 0.0278982 ]\n"
     ]
    }
   ],
   "source": [
    "# 3rd layer\n",
    "t3 = np.dot(h2,W3)\n",
    "h3 = softmax(t3)\n",
    "print(\"Result 3 layer: \", h3)"
   ]
  },
  {
   "cell_type": "markdown",
   "id": "1f465d4c",
   "metadata": {},
   "source": [
    "### 2. Реализовать модель с прямым проходом, состоящую из 2 свёрток с функциями активации ReLU и 2 функций MaxPool. Первый слой переводит из 3 каналов в 8, второй из 8 слоёв в 16. На вход подаётся изображение размера 19х19. (19х19x3 -> 18x18x8 -> 9x9x8 -> 8x8x16 -> 4x4x16)"
   ]
  },
  {
   "cell_type": "code",
   "execution_count": 249,
   "id": "8ec0c98d",
   "metadata": {},
   "outputs": [],
   "source": [
    "# слои CNN\n",
    "def convolution(image, filt):\n",
    "    flt_amounts, flt_d, flt_h, flt_w = filt.shape \n",
    "    image_d, image_h, image_w = image.shape\n",
    "    conv = np.zeros((flt_amounts,image_h-flt_h+1, image_h-flt_h+1)) \n",
    "    for flt_num in range(flt_amounts):\n",
    "        curr_y = out_y = 0\n",
    "        while curr_y + flt_h <= image_h:\n",
    "            curr_x, out_x = 0, 0\n",
    "            while curr_x + flt_h <= image_h:\n",
    "                batch = image[:,curr_y:curr_y+flt_h, curr_x:curr_x+flt_h]\n",
    "                conv[flt_num, out_y, out_x] = np.sum(filt[flt_num] * batch)\n",
    "                curr_x += 1\n",
    "                out_x += 1\n",
    "            curr_y += 1\n",
    "            out_y += 1\n",
    "    return conv\n",
    "\n",
    "def relu(t):\n",
    "    return np.maximum(t,0)\n",
    "\n",
    "def maxpool(image):\n",
    "    image_d, image_h, image_w = image.shape\n",
    "    pool = np.zeros((image_d, int((image_h - 2)/2)+1, int((image_w - 2)/2)+1)) \n",
    "    for i in range(image_d):\n",
    "        curr_y = out_y = 0\n",
    "        while curr_y + 2 <= image_h:\n",
    "            curr_x, out_x = 0, 0\n",
    "            while curr_x + 2 <= image_w:\n",
    "                pool[i, out_y, out_x] = np.max(image[i, curr_y:curr_y+2, curr_x:curr_x+2])\n",
    "                curr_x += 2\n",
    "                out_x += 1\n",
    "            curr_y += 2\n",
    "            out_y += 1\n",
    "    return pool"
   ]
  },
  {
   "cell_type": "code",
   "execution_count": 259,
   "id": "6fcb9aab",
   "metadata": {},
   "outputs": [
    {
     "name": "stdout",
     "output_type": "stream",
     "text": [
      "Размер после первой свертки:  (18, 18, 8)\n",
      "Размер после первого пулинга:  (9, 9, 8)\n",
      "Размер после второй свертки:  (8, 8, 16)\n",
      "Размер после второго пулинга:  (4, 4, 16)\n"
     ]
    }
   ],
   "source": [
    "# инициализация изображения, фильтров и проход по слоям\n",
    "\n",
    "image_h, image_w, image_d = 19, 19, 3\n",
    "filter_h, filter_w, filter_d, fltr_amount = 2, 2, 3, 8\n",
    "input_image = np.random.randint(0, 256, (image_d, image_h, image_w), dtype=np.uint8)\n",
    "filt = np.random.randn(fltr_amount, filter_d, filter_h, filter_w)\n",
    "filt1 = np.random.randn(16, 8, 2, 2)\n",
    "\n",
    "conv1 = convolution(input_image,filt)\n",
    "print(\"Размер после первой свертки: \", conv1.shape[::-1])\n",
    "conv1_relu = relu(conv1)\n",
    "max_pool1 = maxpool(conv1_relu)\n",
    "print(\"Размер после первого пулинга: \", max_pool1.shape[::-1])\n",
    "\n",
    "conv2 = convolution(max_pool1,filt1)\n",
    "print(\"Размер после второй свертки: \", conv2.shape[::-1])\n",
    "conv2_relu = relu(conv2)\n",
    "max_pool2 = maxpool(conv2_relu)\n",
    "print(\"Размер после второго пулинга: \", max_pool2.shape[::-1])\n"
   ]
  },
  {
   "cell_type": "markdown",
   "id": "ce335e23",
   "metadata": {},
   "source": [
    "### 3. Объединить сети из п.2 и п.1. На вход изображение размера 19х19, на выходе вектор из 4 элементов"
   ]
  },
  {
   "cell_type": "code",
   "execution_count": 269,
   "id": "da399fd0",
   "metadata": {},
   "outputs": [
    {
     "name": "stdout",
     "output_type": "stream",
     "text": [
      "Размер исходного изображения:  (18, 18, 8)\n",
      "Размер после первой свертки:  (18, 18, 8)\n",
      "Размер после первого пулинга:  (9, 9, 8)\n",
      "Размер после второй свертки:  (8, 8, 16)\n",
      "Размер после второго пулинга:  (4, 4, 16)\n",
      "Размер после перевода в вектор:  (256,)\n",
      "Размер после 1 слоя:  (64,)\n",
      "Размер после 2 слоя:  (16,)\n",
      "Размер после 3 слоя (ИТОГ):  (4,)\n"
     ]
    }
   ],
   "source": [
    "# инициализация изображения, фильтров и проход по слоям ( сеть 2 )\n",
    "\n",
    "image_h, image_w, image_d = 19, 19, 3\n",
    "print(\"Размер исходного изображения: \", conv1.shape[::-1])\n",
    "filter_h, filter_w, filter_d, fltr_amount = 2, 2, 3, 8\n",
    "input_image = np.random.randint(0, 256, (image_d, image_h, image_w), dtype=np.uint8)\n",
    "filt = np.random.randn(fltr_amount, filter_d, filter_h, filter_w)\n",
    "filt1 = np.random.randn(16, 8, 2, 2)\n",
    "\n",
    "conv1 = convolution(input_image,filt)\n",
    "print(\"Размер после первой свертки: \", conv1.shape[::-1])\n",
    "conv1_relu = relu(conv1)\n",
    "max_pool1 = maxpool(conv1_relu)\n",
    "print(\"Размер после первого пулинга: \", max_pool1.shape[::-1])\n",
    "\n",
    "conv2 = convolution(max_pool1,filt1)\n",
    "print(\"Размер после второй свертки: \", conv2.shape[::-1])\n",
    "conv2_relu = relu(conv2)\n",
    "max_pool2 = maxpool(conv2_relu)\n",
    "print(\"Размер после второго пулинга: \", max_pool2.shape[::-1])\n",
    "\n",
    "# представляем изображение (4, 4, 16) вектором из 256 элементов\n",
    "img_to_vector = np.ravel(max_pool2)\n",
    "print(\"Размер после перевода в вектор: \", img_to_vector.shape)\n",
    "\n",
    "# инициализируем веса и прогоняем через модель из 1 сети\n",
    "input_size, h1_size, h2_size, out_size = 256, 64, 16, 4\n",
    "\n",
    "W1 = np.random.randn(input_size, h1_size)\n",
    "W2 = np.random.randn(h1_size, h2_size)\n",
    "W3 = np.random.randn(h2_size, out_size)\n",
    "\n",
    "t1 = np.dot(img_to_vector,W1)\n",
    "h1 = relu(t1)\n",
    "print(\"Размер после 1 слоя: \", h1.shape)\n",
    "\n",
    "t2 = np.dot(h1,W2)\n",
    "h2 = tanh(t2)\n",
    "print(\"Размер после 2 слоя: \", h2.shape)\n",
    "\n",
    "t3 = np.dot(h2,W3)\n",
    "h3 = softmax(t3)\n",
    "print(\"Размер после 3 слоя (ИТОГ): \", h3.shape)"
   ]
  }
 ],
 "metadata": {
  "kernelspec": {
   "display_name": "Python 3 (ipykernel)",
   "language": "python",
   "name": "python3"
  },
  "language_info": {
   "codemirror_mode": {
    "name": "ipython",
    "version": 3
   },
   "file_extension": ".py",
   "mimetype": "text/x-python",
   "name": "python",
   "nbconvert_exporter": "python",
   "pygments_lexer": "ipython3",
   "version": "3.9.12"
  }
 },
 "nbformat": 4,
 "nbformat_minor": 5
}
