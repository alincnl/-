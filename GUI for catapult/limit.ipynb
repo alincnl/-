{
 "cells": [
  {
   "cell_type": "code",
   "execution_count": 34,
   "id": "df9e918a",
   "metadata": {},
   "outputs": [
    {
     "ename": "SystemError",
     "evalue": "<built-in function add_text> returned a result with an error set",
     "output_type": "error",
     "traceback": [
      "\u001b[1;31m---------------------------------------------------------------------------\u001b[0m",
      "\u001b[1;31mException\u001b[0m                                 Traceback (most recent call last)",
      "\u001b[1;31mException\u001b[0m: \nError:     [1000]\nCommand:   add alias\nItem:      0 \nLabel:     Not found\nItem Type: Unknown\nMessage:   Alias already exists",
      "\nThe above exception was the direct cause of the following exception:\n",
      "\u001b[1;31mSystemError\u001b[0m                               Traceback (most recent call last)",
      "Input \u001b[1;32mIn [34]\u001b[0m, in \u001b[0;36mfun\u001b[1;34m()\u001b[0m\n\u001b[0;32m     10\u001b[0m raspr \u001b[38;5;241m=\u001b[39m dpg\u001b[38;5;241m.\u001b[39mget_value(rasp)\n\u001b[0;32m     11\u001b[0m \u001b[38;5;28;01mif\u001b[39;00m raspr \u001b[38;5;241m==\u001b[39m \u001b[38;5;124m\"\u001b[39m\u001b[38;5;124mNormal\u001b[39m\u001b[38;5;124m\"\u001b[39m:\n\u001b[1;32m---> 12\u001b[0m     \u001b[43mdpg\u001b[49m\u001b[38;5;241;43m.\u001b[39;49m\u001b[43madd_text\u001b[49m\u001b[43m(\u001b[49m\u001b[38;5;124;43m\"\u001b[39;49m\u001b[38;5;124;43mChoose N:\u001b[39;49m\u001b[38;5;124;43m\"\u001b[39;49m\u001b[43m,\u001b[49m\u001b[43m \u001b[49m\u001b[43mtag\u001b[49m\u001b[43m \u001b[49m\u001b[38;5;241;43m=\u001b[39;49m\u001b[43m \u001b[49m\u001b[38;5;124;43m\"\u001b[39;49m\u001b[38;5;124;43mcn\u001b[39;49m\u001b[38;5;124;43m\"\u001b[39;49m\u001b[43m,\u001b[49m\u001b[43m \u001b[49m\u001b[43mparent\u001b[49m\u001b[43m \u001b[49m\u001b[38;5;241;43m=\u001b[39;49m\u001b[43m \u001b[49m\u001b[38;5;124;43m\"\u001b[39;49m\u001b[38;5;124;43mn\u001b[39;49m\u001b[38;5;124;43m\"\u001b[39;49m\u001b[43m)\u001b[49m\n\u001b[0;32m     13\u001b[0m     dpg\u001b[38;5;241m.\u001b[39madd_input_int(default_value\u001b[38;5;241m=\u001b[39m\u001b[38;5;241m1\u001b[39m, min_clamped \u001b[38;5;241m=\u001b[39m \u001b[38;5;28;01mTrue\u001b[39;00m, min_value \u001b[38;5;241m=\u001b[39m \u001b[38;5;241m1\u001b[39m, parent \u001b[38;5;241m=\u001b[39m \u001b[38;5;124m\"\u001b[39m\u001b[38;5;124mcn\u001b[39m\u001b[38;5;124m\"\u001b[39m)\n",
      "File \u001b[1;32m~\\anaconda3\\lib\\site-packages\\dearpygui\\dearpygui.py:7022\u001b[0m, in \u001b[0;36madd_text\u001b[1;34m(default_value, label, user_data, use_internal_label, tag, indent, parent, before, source, payload_type, drag_callback, drop_callback, show, pos, filter_key, tracked, track_offset, wrap, bullet, color, show_label, **kwargs)\u001b[0m\n\u001b[0;32m   7019\u001b[0m \twarnings\u001b[38;5;241m.\u001b[39mwarn(\u001b[38;5;124m'\u001b[39m\u001b[38;5;124mid keyword renamed to tag\u001b[39m\u001b[38;5;124m'\u001b[39m, \u001b[38;5;167;01mDeprecationWarning\u001b[39;00m, \u001b[38;5;241m2\u001b[39m)\n\u001b[0;32m   7020\u001b[0m \ttag\u001b[38;5;241m=\u001b[39mkwargs[\u001b[38;5;124m'\u001b[39m\u001b[38;5;124mid\u001b[39m\u001b[38;5;124m'\u001b[39m]\n\u001b[1;32m-> 7022\u001b[0m \u001b[38;5;28;01mreturn\u001b[39;00m internal_dpg\u001b[38;5;241m.\u001b[39madd_text(default_value, label\u001b[38;5;241m=\u001b[39mlabel, user_data\u001b[38;5;241m=\u001b[39muser_data, use_internal_label\u001b[38;5;241m=\u001b[39muse_internal_label, tag\u001b[38;5;241m=\u001b[39mtag, indent\u001b[38;5;241m=\u001b[39mindent, parent\u001b[38;5;241m=\u001b[39mparent, before\u001b[38;5;241m=\u001b[39mbefore, source\u001b[38;5;241m=\u001b[39msource, payload_type\u001b[38;5;241m=\u001b[39mpayload_type, drag_callback\u001b[38;5;241m=\u001b[39mdrag_callback, drop_callback\u001b[38;5;241m=\u001b[39mdrop_callback, show\u001b[38;5;241m=\u001b[39mshow, pos\u001b[38;5;241m=\u001b[39mpos, filter_key\u001b[38;5;241m=\u001b[39mfilter_key, tracked\u001b[38;5;241m=\u001b[39mtracked, track_offset\u001b[38;5;241m=\u001b[39mtrack_offset, wrap\u001b[38;5;241m=\u001b[39mwrap, bullet\u001b[38;5;241m=\u001b[39mbullet, color\u001b[38;5;241m=\u001b[39mcolor, show_label\u001b[38;5;241m=\u001b[39mshow_label, \u001b[38;5;241m*\u001b[39m\u001b[38;5;241m*\u001b[39mkwargs)\n",
      "\u001b[1;31mSystemError\u001b[0m: <built-in function add_text> returned a result with an error set"
     ]
    }
   ],
   "source": [
    "import dearpygui.dearpygui as dpg\n",
    "\n",
    "xl, yl = [], []\n",
    "\n",
    "for i in range(0, 500):\n",
    "    xl.append(i)\n",
    "    \n",
    "def fun():\n",
    "    global yl\n",
    "    raspr = dpg.get_value(rasp)\n",
    "    if raspr == \"Normal\":\n",
    "        dpg.add_text(\"Choose N:\", tag = \"cn\", parent = \"n\")\n",
    "        dpg.add_input_int(default_value=1, min_clamped = True, min_value = 1, parent = \"cn\")\n",
    "   # dpg.add_line_series(xl, yl, label=f\"y = {weight}\", parent=\"y_axis\", show = True)\n",
    "    #dpg.set_axis_limits(\"y_axis\", 0, max(yl)*1.5)\n",
    "    \n",
    "dpg.create_context()\n",
    "dpg.create_viewport(max_width = 430, max_height = 800, resizable = False)\n",
    "dpg.setup_dearpygui()\n",
    "def item_clicked(sender, data):\n",
    "    return data\n",
    "\n",
    "    \n",
    "with dpg.window(label=\"Catapult Calculation\",width = 430, height = 800):\n",
    "    dpg.add_text(\"Hello! Choose one of raspredelenie:\")\n",
    "    rasp = dpg.add_listbox(items=[\"Normal\", \"Ravnomernoe\", \"Exponent\", \"Binomial\", \"Geometric\", \"Bernulli\", \"Puasson\"],num_items=3,callback=fun)\n",
    "    dpg.add_text(\"Enter the size of vyborka:\")\n",
    "    n = dpg.add_input_int(default_value=0, min_clamped = True, tag = \"n\",min_value = 0)\n",
    "   # dpg.add_button(label=\"Done\", callback=fun)\n",
    "''' with dpg.plot(height=320, width=320):\n",
    "        dpg.add_plot_legend()\n",
    "        dpg.add_plot_axis(dpg.mvXAxis, label=\"x\")\n",
    "        dpg.add_plot_axis(dpg.mvYAxis, label=\"y\", tag=\"y_axis\")'''\n",
    "\n",
    "dpg.show_viewport()\n",
    "dpg.start_dearpygui()\n",
    "dpg.destroy_context()\n"
   ]
  },
  {
   "cell_type": "code",
   "execution_count": null,
   "id": "85745380",
   "metadata": {},
   "outputs": [],
   "source": [
    "import numpy as np\n",
    "import matplotlib.pyplot as plt\n",
    "from scipy.stats import uniform\n",
    "\n",
    "def ravnom(n):\n",
    "    print(\"Enter N:\")\n",
    "    N = int(input())\n",
    "    \n",
    "print(\"Hello! Choose and write number:\")\n",
    "print(\"1.Normal\")\n",
    "print(\"2.Ravnomernoe\")\n",
    "print(\"3.Exponent\")\n",
    "print(\"4.Binomial\")\n",
    "print(\"5.Geometric\")\n",
    "print(\"6.Bernulli\")\n",
    "print(\"7.Puasson\")\n",
    "print(\"Your choice:\")\n",
    "raspr = int(input())\n",
    "if raspr < 1 or raspr > 8:\n",
    "    raise ValueError('Unable value')\n",
    "print(\"Enter the size of vyborka: \")\n",
    "vyborka = int(input())\n",
    "if vyborka < 1:\n",
    "    raise ValueError('Unable value')\n",
    "if raspr == 2:\n",
    "    ravnom(vyborka)\n"
   ]
  },
  {
   "cell_type": "code",
   "execution_count": null,
   "id": "acfc1300",
   "metadata": {},
   "outputs": [],
   "source": [
    "import numpy as np\n",
    "import matplotlib.pyplot as plt\n",
    "\n",
    "\n",
    "def ravnom(n):\n",
    "    print(\"Enter N:\")\n",
    "    N = int(input())\n",
    "    \n",
    "print(\"Hello! Choose and write number:\")\n",
    "print(\"1.Normal\")\n",
    "print(\"2.Ravnomernoe\")\n",
    "print(\"3.Exponent\")\n",
    "print(\"4.Binomial\")\n",
    "print(\"5.Geometric\")\n",
    "print(\"6.Bernulli\")\n",
    "print(\"7.Puasson\")\n",
    "print(\"Your choice:\")\n",
    "raspr = int(input())\n",
    "if raspr < 1 or raspr > 8:\n",
    "    raise ValueError('Unable value')\n",
    "print(\"Enter the size of vyborka: \")\n",
    "vyborka = int(input())\n",
    "if vyborka < 1:\n",
    "    raise ValueError('Unable value')\n",
    "if raspr == 2:\n",
    "    ravnom(vyborka)"
   ]
  },
  {
   "cell_type": "code",
   "execution_count": null,
   "id": "83082735",
   "metadata": {},
   "outputs": [],
   "source": []
  }
 ],
 "metadata": {
  "kernelspec": {
   "display_name": "Python 3 (ipykernel)",
   "language": "python",
   "name": "python3"
  },
  "language_info": {
   "codemirror_mode": {
    "name": "ipython",
    "version": 3
   },
   "file_extension": ".py",
   "mimetype": "text/x-python",
   "name": "python",
   "nbconvert_exporter": "python",
   "pygments_lexer": "ipython3",
   "version": "3.9.12"
  }
 },
 "nbformat": 4,
 "nbformat_minor": 5
}
