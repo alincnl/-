{
 "cells": [
  {
   "cell_type": "code",
   "execution_count": null,
   "id": "abc1d64f",
   "metadata": {},
   "outputs": [],
   "source": [
    "import csv\n",
    "import time\n",
    "\n",
    "from selenium import webdriver\n",
    "import requests\n",
    "from bs4 import BeautifulSoup\n",
    "import pandas as pd\n",
    "from webdriver_manager.chrome import ChromeDriverManager\n"
   ]
  },
  {
   "cell_type": "code",
   "execution_count": null,
   "id": "f93bcb96",
   "metadata": {},
   "outputs": [],
   "source": [
    "options = webdriver.ChromeOptions()\n",
    "driver = webdriver.Chrome(ChromeDriverManager().install())\n",
    "driver.get(\"https://siam-shop.ru/catalog/tayskaya_kukhnya/\")"
   ]
  },
  {
   "cell_type": "code",
   "execution_count": 2,
   "id": "5f1798be",
   "metadata": {},
   "outputs": [],
   "source": [
    "catalog_name, catalog_price = [],[]\n",
    "# собираем информацию со странички каталога, вычленяем название, цену товара,\n",
    "# переходим на его страницу и там берем описание\n",
    "# данные о товарах складываем в общий список\n",
    "\n",
    "def parse_data(data, class_names):\n",
    "    for product in data:\n",
    "        name = product.find_element_by_class_name(class_names[\"name\"]).text\n",
    "        price = product.find_element_by_class_name(class_names[\"price\"]).text\n",
    "        catalog_name.append(name)\n",
    "        catalog_price.append(price)\n",
    "\n",
    "urls =[]\n",
    "base_url = \"https://siam-shop.ru\"\n",
    "data = driver.find_elements_by_class_name('b-catalog-sections_item_holder')\n",
    "parse_data(data, {\"name\":\"b-catalog-sections_item_title\", \"price\": \"bx_price\"})\n",
    "response = requests.get(driver.current_url)\n",
    "soup = BeautifulSoup(response.text, \"lxml\")\n",
    "names = soup.find_all('div', class_=\"b-catalog-sections_item_title\")\n",
    "\n",
    "for name in names:\n",
    "    urls.append(base_url+name.a['href'])\n",
    "\n",
    "#print(urls)"
   ]
  },
  {
   "cell_type": "code",
   "execution_count": 3,
   "id": "a9447c6a",
   "metadata": {},
   "outputs": [],
   "source": [
    "import threading\n",
    "import sys\n",
    "\n",
    "descrip=[]\n",
    "def thread_job(url):\n",
    "    response = requests.get(url)\n",
    "    soup = BeautifulSoup(response.text, 'html.parser')\n",
    "    try:\n",
    "        descrip.append(soup.find_all('div', class_=\"b-catalog-detail_detail-text\")[0].text)\n",
    "    except BaseException:\n",
    "        print(url, soup.find_all('div', class_=\"b-catalog-detail_detail-text\"))\n",
    "\n",
    "def run_threads(count):\n",
    "    threads_list = []\n",
    "\n",
    "    for street in urls:\n",
    "        get_description = threading.Thread(\n",
    "            target=thread_job, args=(street,)\n",
    "        )\n",
    "        get_description.start()\n",
    "        threads_list.append(get_description)\n",
    "\n",
    "    for t in threads_list:\n",
    "        t.join()\n",
    "\n",
    "run_threads(3)"
   ]
  },
  {
   "cell_type": "code",
   "execution_count": 4,
   "id": "169d9bcb",
   "metadata": {},
   "outputs": [],
   "source": [
    "# запись в формат csv\n",
    "catalog_list = pd.DataFrame({'Name': catalog_name, 'Price': catalog_price, 'Description': descrip})\n",
    "catalog_list.to_csv('catalog_list.csv',index=False)\n",
    "    \n",
    "with open(\"catalog_list.csv\", 'r', encoding=\"utf-8\") as file:\n",
    "    csvreader = csv.reader(file)\n",
    "    for row in csvreader:\n",
    "        print(row)"
   ]
  },
  {
   "cell_type": "code",
   "execution_count": null,
   "id": "6e8d0f7b",
   "metadata": {},
   "outputs": [],
   "source": [
    "driver.close()"
   ]
  }
 ],
 "metadata": {
  "kernelspec": {
   "display_name": "Python 3 (ipykernel)",
   "language": "python",
   "name": "python3"
  },
  "language_info": {
   "codemirror_mode": {
    "name": "ipython",
    "version": 3
   },
   "file_extension": ".py",
   "mimetype": "text/x-python",
   "name": "python",
   "nbconvert_exporter": "python",
   "pygments_lexer": "ipython3",
   "version": "3.10.9"
  }
 },
 "nbformat": 4,
 "nbformat_minor": 5
}
