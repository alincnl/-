{
 "cells": [
  {
   "cell_type": "markdown",
   "id": "9b008d08",
   "metadata": {},
   "source": [
    "###  1. Разделите данные Титаника (train.csv) на тренировочную, валидационную и тестовую часть. С помощью валидационной части подберите гиперпараметры для моделей Random Forest, XGBoost, Logistic Regression и KNN. Получите точность этих моделей на тестовой части."
   ]
  },
  {
   "cell_type": "markdown",
   "id": "fac0b208",
   "metadata": {},
   "source": [
    "подготавливаем данные.."
   ]
  },
  {
   "cell_type": "code",
   "execution_count": 2,
   "id": "fe849ef7",
   "metadata": {},
   "outputs": [],
   "source": [
    "import pandas as pd\n",
    "from sklearn.preprocessing import MinMaxScaler\n",
    "\n",
    "df = pd.read_csv('train.csv')\n",
    "\n",
    "df_prep_x = df.drop(['PassengerId', 'Survived', 'Name', 'Ticket', 'Cabin'], axis=1)\n",
    "df_prep_y = df['Survived']\n",
    "\n",
    "def prepare_num(df):\n",
    "    df_num = df.drop(['Sex', 'Embarked', 'Pclass'], axis=1)\n",
    "    df_sex = pd.get_dummies(df['Sex'])\n",
    "    df_emb = pd.get_dummies(df['Embarked'], prefix='Emb')\n",
    "    df_pcl = pd.get_dummies(df['Pclass'], prefix='Pclass')\n",
    "\n",
    "    df_num = pd.concat((df_num, df_sex, df_emb, df_pcl), axis=1)\n",
    "    return df_num\n",
    "\n",
    "df_prep_x_num = prepare_num(df_prep_x)\n",
    "\n",
    "df_prep_x_num = df_prep_x_num.fillna(df_prep_x_num.median())\n",
    "df_prep_y = df_prep_y.fillna(df_prep_y.median())\n",
    "\n",
    "scaler = MinMaxScaler()\n",
    "scaled_x = scaler.fit_transform(df_prep_x_num)"
   ]
  },
  {
   "cell_type": "code",
   "execution_count": 61,
   "id": "6ad376a0",
   "metadata": {},
   "outputs": [],
   "source": [
    "from sklearn.model_selection import train_test_split\n",
    "\n",
    "X_train, X_test, y_train, y_test = train_test_split(scaled_x, df_prep_y, test_size=0.2, random_state=1)\n",
    "X_train, X_val, y_train, y_val = train_test_split(X_train, y_train, test_size=0.3, random_state=1)"
   ]
  },
  {
   "cell_type": "markdown",
   "id": "eedacd88",
   "metadata": {},
   "source": [
    "### RandomForestClassifier"
   ]
  },
  {
   "cell_type": "code",
   "execution_count": 79,
   "id": "eac02dd2",
   "metadata": {},
   "outputs": [
    {
     "name": "stdout",
     "output_type": "stream",
     "text": [
      "Лучшая точность во время валидации: 0.8551401869158879\n",
      "Достигается с параметрами n_estimators = 9, criterion = entropy, max_depth = 9\n",
      "Точность на тестовых данных: 0.8268156424581006\n"
     ]
    }
   ],
   "source": [
    "import numpy as np\n",
    "from sklearn.ensemble import RandomForestClassifier\n",
    "best_acc, best_est, best_crit, best_max_depth = 0,0,[],0\n",
    "criterion = [\"gini\",\"entropy\",\"log_loss\"]\n",
    "for i in range(30):\n",
    "     for j in range(10):\n",
    "            for k in range(3):\n",
    "                valid_model = RandomForestClassifier(n_estimators=i+1, criterion=criterion[k], max_depth=j+1)\n",
    "                valid_model.fit(X_train, y_train)\n",
    "                actual_acc = valid_model.score(X_val,y_val)\n",
    "                if actual_acc > best_acc:\n",
    "                        best_acc= actual_acc\n",
    "                        best_est = i+1\n",
    "                        best_crit = criterion[k]\n",
    "                        best_max_depth=j+1\n",
    "\n",
    "print(\"Лучшая точность во время валидации:\", best_acc)\n",
    "print(\"Достигается с параметрами n_estimators = %d, criterion = %s, max_depth = %d\" % (best_est, best_crit, best_max_depth))\n",
    "\n",
    "RandomForestModelValid = RandomForestClassifier(n_estimators=best_est, criterion=best_crit, max_depth=best_max_depth)\n",
    "RandomForestModelValid.fit(X_train,y_train)\n",
    "print(\"Точность на тестовых данных:\", RandomForestModelValid.score(X_test,y_test))\n"
   ]
  },
  {
   "cell_type": "markdown",
   "id": "afadd21b",
   "metadata": {},
   "source": [
    "### XGBoost"
   ]
  },
  {
   "cell_type": "code",
   "execution_count": 77,
   "id": "91292256",
   "metadata": {},
   "outputs": [
    {
     "name": "stdout",
     "output_type": "stream",
     "text": [
      "Лучшая точность во время валидации: 0.8504672897196262\n",
      "Достигается с параметрами n_estimators = 7, max_depth = 7\n",
      "Точность на тестовых данных: 0.8212290502793296\n"
     ]
    }
   ],
   "source": [
    "from xgboost import XGBClassifier\n",
    "best_acc, best_est, best_max_depth = 0,0,0\n",
    "for i in range(30):\n",
    "     for j in range(10):\n",
    "        valid_model = XGBClassifier(n_estimators=i+1, max_depth=j+1)\n",
    "        valid_model.fit(X_train, y_train)\n",
    "        actual_acc = valid_model.score(X_val,y_val)\n",
    "        if actual_acc > best_acc:\n",
    "                best_acc= actual_acc\n",
    "                best_est = i+1\n",
    "                best_max_depth=j+1\n",
    "\n",
    "print(\"Лучшая точность во время валидации:\", best_acc)\n",
    "print(\"Достигается с параметрами n_estimators = %d, max_depth = %d\" % (best_est, best_max_depth))\n",
    "\n",
    "XGBClassifierModelValid = XGBClassifier(n_estimators=best_est, max_depth=best_max_depth)\n",
    "XGBClassifierModelValid.fit(X_train,y_train)\n",
    "print(\"Точность на тестовых данных:\", XGBClassifierModelValid.score(X_test,y_test))"
   ]
  },
  {
   "cell_type": "markdown",
   "id": "adc7ea79",
   "metadata": {},
   "source": [
    "### LogisticRegression"
   ]
  },
  {
   "cell_type": "code",
   "execution_count": 101,
   "id": "a4d7fe23",
   "metadata": {},
   "outputs": [
    {
     "name": "stdout",
     "output_type": "stream",
     "text": [
      "Лучшая точность во время валидации: 0.8177570093457944\n",
      "Достигается с параметрами C = 0.010000, solver = liblinear\n",
      "Точность на тестовых данных: 0.770949720670391\n"
     ]
    }
   ],
   "source": [
    "from sklearn.linear_model import LogisticRegression\n",
    "solver = ['lbfgs', 'liblinear', 'newton-cg', 'newton-cholesky', 'sag', 'saga']\n",
    "best_acc, best_C, best_solver = 0,0,[]\n",
    "for i in range(100):\n",
    "     for j in range(6):\n",
    "        valid_model = LogisticRegression(C=(i+1)/100, solver=solver[j])\n",
    "        valid_model.fit(X_train, y_train)\n",
    "        actual_acc = valid_model.score(X_val,y_val)\n",
    "        if actual_acc > best_acc:\n",
    "                best_acc= actual_acc\n",
    "                best_C = (i+1)/100\n",
    "                best_solver=solver[j]\n",
    "\n",
    "print(\"Лучшая точность во время валидации:\", best_acc)\n",
    "print(\"Достигается с параметрами C = %f, solver = %s\" % (best_C, best_solver))\n",
    "\n",
    "LogisticRegressionModelValid = LogisticRegression(C=best_C, solver=best_solver)\n",
    "LogisticRegressionModelValid.fit(X_train,y_train)\n",
    "print(\"Точность на тестовых данных:\", LogisticRegressionModelValid.score(X_test,y_test))"
   ]
  },
  {
   "cell_type": "markdown",
   "id": "9ea0650d",
   "metadata": {},
   "source": [
    "### KNN"
   ]
  },
  {
   "cell_type": "code",
   "execution_count": 109,
   "id": "96cfce94",
   "metadata": {},
   "outputs": [
    {
     "name": "stdout",
     "output_type": "stream",
     "text": [
      "Лучшая точность во время валидации: 0.8317757009345794\n",
      "Достигается с параметрами n_neighbors = 8, weights = uniform, algorithm = brute\n",
      "Точность на тестовых данных: 0.7597765363128491\n"
     ]
    }
   ],
   "source": [
    "from sklearn.neighbors import KNeighborsClassifier\n",
    "weights = ['uniform', 'distance']\n",
    "algorithm = ['auto', 'ball_tree', 'kd_tree', 'brute']\n",
    "best_acc, best_n, best_wei, best_alg = 0,0,[],[]\n",
    "for i in range(10):\n",
    "     for j in range(2):\n",
    "        for k in range(4):\n",
    "            valid_model = KNeighborsClassifier(n_neighbors=i+1, weights=weights[j],algorithm=algorithm[k])\n",
    "            valid_model.fit(X_train, y_train)\n",
    "            actual_acc = valid_model.score(X_val,y_val)\n",
    "            if actual_acc >= best_acc:\n",
    "                    best_acc= actual_acc\n",
    "                    best_n = i+1\n",
    "                    best_wei=weights[j]\n",
    "                    best_alg=algorithm[k]\n",
    "\n",
    "print(\"Лучшая точность во время валидации:\", best_acc)\n",
    "print(\"Достигается с параметрами n_neighbors = %d, weights = %s, algorithm = %s\" % (best_n, best_wei,best_alg))\n",
    "\n",
    "KNeighborsClassifierModelValid = KNeighborsClassifier(n_neighbors = best_n, weights=best_wei,algorithm=best_alg)\n",
    "KNeighborsClassifierModelValid.fit(X_train,y_train)\n",
    "print(\"Точность на тестовых данных:\", KNeighborsClassifierModelValid.score(X_test,y_test))"
   ]
  },
  {
   "cell_type": "markdown",
   "id": "ea07405d",
   "metadata": {},
   "source": [
    "### 2. С помощью RandomForest выберите 2, 4, 8 самых важных признаков и проверьте точность моделей только на этих признаках."
   ]
  },
  {
   "cell_type": "code",
   "execution_count": 20,
   "id": "00e2a99d",
   "metadata": {},
   "outputs": [
    {
     "data": {
      "image/png": "[encoded data removed]",
      "text/plain": [
       "<Figure size 432x288 with 1 Axes>"
      ]
     },
     "metadata": {
      "needs_background": "light"
     },
     "output_type": "display_data"
    }
   ],
   "source": [
    "import matplotlib.pyplot as plt\n",
    "\n",
    "importances = RandomForestModelValid.feature_importances_\n",
    "features = df_prep_x_num.columns\n",
    "indices = np.argsort(importances)\n",
    "\n",
    "plt.title('Важность признаков')\n",
    "plt.barh(range(len(indices)), importances[indices], color='b', align='center')\n",
    "plt.yticks(range(len(indices)), features[indices])\n",
    "plt.xlabel('Относительная важность')\n",
    "plt.show()"
   ]
  },
  {
   "cell_type": "code",
   "execution_count": 73,
   "id": "f44fe6b2",
   "metadata": {},
   "outputs": [
    {
     "name": "stdout",
     "output_type": "stream",
     "text": [
      "Точность на 2('Age','female') признаках: 0.7541899441340782\n",
      "Точность на 4('Fare','Age','female','male') признаках: 0.8156424581005587\n",
      "Точность на 8('Fare','Age','female','Parch','male','SibSp','Pclass_3','Pclass_1') признаках: 0.7988826815642458\n"
     ]
    }
   ],
   "source": [
    "df_prep_x2 = df_prep_x_num[['Age','female']]\n",
    "scaled_x2 = MinMaxScaler().fit_transform(df_prep_x2)\n",
    "X_train2, X_test2, y_train2, y_test2 = train_test_split(scaled_x2, df_prep_y, test_size=0.2, random_state=1)\n",
    "RandomForestModelValid = RandomForestClassifier(n_estimators=best_est, criterion=best_crit, max_depth=best_max_depth)\n",
    "RandomForestModelValid.fit(X_train2,y_train2)\n",
    "print(\"Точность на 2('Age','female') признаках:\", RandomForestModelValid.score(X_test2,y_test2))\n",
    "\n",
    "df_prep_x4 = df_prep_x_num[['Fare','Age','female','male']]\n",
    "scaled_x4 = MinMaxScaler().fit_transform(df_prep_x4)\n",
    "X_train4, X_test4, y_train4, y_test4 = train_test_split(scaled_x4, df_prep_y, test_size=0.2, random_state=1)\n",
    "RandomForestModelValid = RandomForestClassifier(n_estimators=best_est, criterion=best_crit, max_depth=best_max_depth)\n",
    "RandomForestModelValid.fit(X_train4,y_train4)\n",
    "print(\"Точность на 4('Fare','Age','female','male') признаках:\", RandomForestModelValid.score(X_test4,y_test4))\n",
    "\n",
    "df_prep_x8 = df_prep_x_num[['Fare','Age','female','Parch','male','SibSp','Pclass_3','Pclass_1']]\n",
    "scaled_x8 = MinMaxScaler().fit_transform(df_prep_x8)\n",
    "X_train8, X_test8, y_train8, y_test8 = train_test_split(scaled_x8, df_prep_y, test_size=0.2, random_state=1)\n",
    "RandomForestModelValid = RandomForestClassifier(n_estimators=best_est, criterion=best_crit, max_depth=best_max_depth)\n",
    "RandomForestModelValid.fit(X_train8,y_train8)\n",
    "print(\"Точность на 8('Fare','Age','female','Parch','male','SibSp','Pclass_3','Pclass_1') признаках:\", RandomForestModelValid.score(X_test8,y_test8))"
   ]
  },
  {
   "cell_type": "markdown",
   "id": "b875384b",
   "metadata": {},
   "source": [
    "### 3. Используя координаты скважин из файла wells_info.csv разделите их на кластера с помощью любых 4 методов и отобразите разделение. Параметры подбираются самостоятельно."
   ]
  },
  {
   "cell_type": "code",
   "execution_count": 47,
   "id": "b209cc0b",
   "metadata": {},
   "outputs": [],
   "source": [
    "import pandas as pd\n",
    "import matplotlib.pyplot as plt\n",
    "df = pd.read_csv('wells_info.csv')\n",
    "coordinates = df[['BottomHoleLatitude','BottomHoleLongitude']]"
   ]
  },
  {
   "cell_type": "markdown",
   "id": "324c15d1",
   "metadata": {},
   "source": [
    "#### KMeans"
   ]
  },
  {
   "cell_type": "code",
   "execution_count": 23,
   "id": "1565e83a",
   "metadata": {},
   "outputs": [
    {
     "data": {
      "image/png": "[encoded data removed]",
      "text/plain": [
       "<Figure size 432x432 with 1 Axes>"
      ]
     },
     "metadata": {
      "needs_background": "light"
     },
     "output_type": "display_data"
    }
   ],
   "source": [
    "from sklearn.cluster import KMeans\n",
    "\n",
    "model = KMeans(n_clusters=5)\n",
    "clusters = model.fit_predict(coordinates.values)\n",
    "\n",
    "plt.figure(figsize=(6, 6))\n",
    "for cl in np.unique(clusters):\n",
    "    data_ = coordinates.values[clusters == cl]\n",
    "    plt.scatter(data_[:, 0], data_[:, 1])\n",
    "plt.show()"
   ]
  },
  {
   "cell_type": "markdown",
   "id": "b52e8f91",
   "metadata": {},
   "source": [
    "#### DBSCAN"
   ]
  },
  {
   "cell_type": "code",
   "execution_count": 24,
   "id": "ee335214",
   "metadata": {},
   "outputs": [
    {
     "data": {
      "image/png": "[encoded data removed]",
      "text/plain": [
       "<Figure size 432x432 with 1 Axes>"
      ]
     },
     "metadata": {
      "needs_background": "light"
     },
     "output_type": "display_data"
    }
   ],
   "source": [
    "from sklearn.cluster import DBSCAN\n",
    "\n",
    "model = DBSCAN(eps=1, min_samples=1)\n",
    "clusters = model.fit_predict(coordinates.values)\n",
    "\n",
    "plt.figure(figsize=(6, 6))\n",
    "for cl in np.unique(clusters):\n",
    "    data_ = coordinates.values[clusters == cl]\n",
    "    plt.scatter(data_[:, 0], data_[:, 1], label='Кластер {}'.format(cl))\n",
    "plt.legend(loc=2)\n",
    "plt.show()"
   ]
  },
  {
   "cell_type": "markdown",
   "id": "09a674fd",
   "metadata": {},
   "source": [
    "#### Birch"
   ]
  },
  {
   "cell_type": "code",
   "execution_count": 27,
   "id": "51787c70",
   "metadata": {},
   "outputs": [
    {
     "data": {
      "image/png": "[encoded data removed]",
      "text/plain": [
       "<Figure size 432x432 with 1 Axes>"
      ]
     },
     "metadata": {
      "needs_background": "light"
     },
     "output_type": "display_data"
    }
   ],
   "source": [
    "from sklearn.cluster import Birch\n",
    "\n",
    "model = Birch(branching_factor = 60, n_clusters = 5, threshold = 1.0)\n",
    "clusters = model.fit_predict(coordinates.values)\n",
    "\n",
    "plt.figure(figsize=(6, 6))\n",
    "for cl in np.unique(clusters):\n",
    "    data_ = coordinates.values[clusters == cl]\n",
    "    plt.scatter(data_[:, 0], data_[:, 1], label='Кластер {}'.format(cl))\n",
    "plt.legend(loc=2)\n",
    "plt.show()"
   ]
  },
  {
   "cell_type": "markdown",
   "id": "4d88c13a",
   "metadata": {},
   "source": [
    "#### OPTICS"
   ]
  },
  {
   "cell_type": "code",
   "execution_count": 46,
   "id": "ef1c4e7b",
   "metadata": {},
   "outputs": [
    {
     "data": {
      "image/png": "[encoded data removed]",
      "text/plain": [
       "<Figure size 432x432 with 1 Axes>"
      ]
     },
     "metadata": {
      "needs_background": "light"
     },
     "output_type": "display_data"
    }
   ],
   "source": [
    "from sklearn.cluster import OPTICS\n",
    "\n",
    "model = OPTICS(min_samples=6, max_eps=2, min_cluster_size=0.01)\n",
    "clusters = model.fit_predict(coordinates.values)\n",
    "\n",
    "plt.figure(figsize=(6, 6))\n",
    "for cl in np.unique(clusters):\n",
    "    data_ = coordinates.values[clusters == cl]\n",
    "    plt.scatter(data_[:, 0], data_[:, 1], label='Кластер {}'.format(cl))\n",
    "plt.legend(loc=2)\n",
    "plt.show()"
   ]
  },
  {
   "cell_type": "markdown",
   "id": "c0112d74",
   "metadata": {},
   "source": [
    "### 4. Приведите отобранные в 6.1 задании признаки из файла wells_info_with_prod.csv в двумерное пространство. Выделите цветом добычу с этой скважины."
   ]
  },
  {
   "cell_type": "code",
   "execution_count": 3,
   "id": "17358b6e",
   "metadata": {},
   "outputs": [
    {
     "ename": "FileNotFoundError",
     "evalue": "[Errno 2] No such file or directory: 'wells.csv'",
     "output_type": "error",
     "traceback": [
      "\u001b[1;31m---------------------------------------------------------------------------\u001b[0m",
      "\u001b[1;31mFileNotFoundError\u001b[0m                         Traceback (most recent call last)",
      "Input \u001b[1;32mIn [3]\u001b[0m, in \u001b[0;36m<cell line: 1>\u001b[1;34m()\u001b[0m\n\u001b[1;32m----> 1\u001b[0m df4 \u001b[38;5;241m=\u001b[39m \u001b[43mpd\u001b[49m\u001b[38;5;241;43m.\u001b[39;49m\u001b[43mread_csv\u001b[49m\u001b[43m(\u001b[49m\u001b[38;5;124;43m'\u001b[39;49m\u001b[38;5;124;43mwells.csv\u001b[39;49m\u001b[38;5;124;43m'\u001b[39;49m\u001b[43m)\u001b[49m\n\u001b[0;32m      2\u001b[0m df4\u001b[38;5;241m.\u001b[39mhead()\n",
      "File \u001b[1;32m~\\anaconda3\\lib\\site-packages\\pandas\\util\\_decorators.py:311\u001b[0m, in \u001b[0;36mdeprecate_nonkeyword_arguments.<locals>.decorate.<locals>.wrapper\u001b[1;34m(*args, **kwargs)\u001b[0m\n\u001b[0;32m    305\u001b[0m \u001b[38;5;28;01mif\u001b[39;00m \u001b[38;5;28mlen\u001b[39m(args) \u001b[38;5;241m>\u001b[39m num_allow_args:\n\u001b[0;32m    306\u001b[0m     warnings\u001b[38;5;241m.\u001b[39mwarn(\n\u001b[0;32m    307\u001b[0m         msg\u001b[38;5;241m.\u001b[39mformat(arguments\u001b[38;5;241m=\u001b[39marguments),\n\u001b[0;32m    308\u001b[0m         \u001b[38;5;167;01mFutureWarning\u001b[39;00m,\n\u001b[0;32m    309\u001b[0m         stacklevel\u001b[38;5;241m=\u001b[39mstacklevel,\n\u001b[0;32m    310\u001b[0m     )\n\u001b[1;32m--> 311\u001b[0m \u001b[38;5;28;01mreturn\u001b[39;00m func(\u001b[38;5;241m*\u001b[39margs, \u001b[38;5;241m*\u001b[39m\u001b[38;5;241m*\u001b[39mkwargs)\n",
      "File \u001b[1;32m~\\anaconda3\\lib\\site-packages\\pandas\\io\\parsers\\readers.py:680\u001b[0m, in \u001b[0;36mread_csv\u001b[1;34m(filepath_or_buffer, sep, delimiter, header, names, index_col, usecols, squeeze, prefix, mangle_dupe_cols, dtype, engine, converters, true_values, false_values, skipinitialspace, skiprows, skipfooter, nrows, na_values, keep_default_na, na_filter, verbose, skip_blank_lines, parse_dates, infer_datetime_format, keep_date_col, date_parser, dayfirst, cache_dates, iterator, chunksize, compression, thousands, decimal, lineterminator, quotechar, quoting, doublequote, escapechar, comment, encoding, encoding_errors, dialect, error_bad_lines, warn_bad_lines, on_bad_lines, delim_whitespace, low_memory, memory_map, float_precision, storage_options)\u001b[0m\n\u001b[0;32m    665\u001b[0m kwds_defaults \u001b[38;5;241m=\u001b[39m _refine_defaults_read(\n\u001b[0;32m    666\u001b[0m     dialect,\n\u001b[0;32m    667\u001b[0m     delimiter,\n\u001b[1;32m   (...)\u001b[0m\n\u001b[0;32m    676\u001b[0m     defaults\u001b[38;5;241m=\u001b[39m{\u001b[38;5;124m\"\u001b[39m\u001b[38;5;124mdelimiter\u001b[39m\u001b[38;5;124m\"\u001b[39m: \u001b[38;5;124m\"\u001b[39m\u001b[38;5;124m,\u001b[39m\u001b[38;5;124m\"\u001b[39m},\n\u001b[0;32m    677\u001b[0m )\n\u001b[0;32m    678\u001b[0m kwds\u001b[38;5;241m.\u001b[39mupdate(kwds_defaults)\n\u001b[1;32m--> 680\u001b[0m \u001b[38;5;28;01mreturn\u001b[39;00m \u001b[43m_read\u001b[49m\u001b[43m(\u001b[49m\u001b[43mfilepath_or_buffer\u001b[49m\u001b[43m,\u001b[49m\u001b[43m \u001b[49m\u001b[43mkwds\u001b[49m\u001b[43m)\u001b[49m\n",
      "File \u001b[1;32m~\\anaconda3\\lib\\site-packages\\pandas\\io\\parsers\\readers.py:575\u001b[0m, in \u001b[0;36m_read\u001b[1;34m(filepath_or_buffer, kwds)\u001b[0m\n\u001b[0;32m    572\u001b[0m _validate_names(kwds\u001b[38;5;241m.\u001b[39mget(\u001b[38;5;124m\"\u001b[39m\u001b[38;5;124mnames\u001b[39m\u001b[38;5;124m\"\u001b[39m, \u001b[38;5;28;01mNone\u001b[39;00m))\n\u001b[0;32m    574\u001b[0m \u001b[38;5;66;03m# Create the parser.\u001b[39;00m\n\u001b[1;32m--> 575\u001b[0m parser \u001b[38;5;241m=\u001b[39m TextFileReader(filepath_or_buffer, \u001b[38;5;241m*\u001b[39m\u001b[38;5;241m*\u001b[39mkwds)\n\u001b[0;32m    577\u001b[0m \u001b[38;5;28;01mif\u001b[39;00m chunksize \u001b[38;5;129;01mor\u001b[39;00m iterator:\n\u001b[0;32m    578\u001b[0m     \u001b[38;5;28;01mreturn\u001b[39;00m parser\n",
      "File \u001b[1;32m~\\anaconda3\\lib\\site-packages\\pandas\\io\\parsers\\readers.py:933\u001b[0m, in \u001b[0;36mTextFileReader.__init__\u001b[1;34m(self, f, engine, **kwds)\u001b[0m\n\u001b[0;32m    930\u001b[0m     \u001b[38;5;28mself\u001b[39m\u001b[38;5;241m.\u001b[39moptions[\u001b[38;5;124m\"\u001b[39m\u001b[38;5;124mhas_index_names\u001b[39m\u001b[38;5;124m\"\u001b[39m] \u001b[38;5;241m=\u001b[39m kwds[\u001b[38;5;124m\"\u001b[39m\u001b[38;5;124mhas_index_names\u001b[39m\u001b[38;5;124m\"\u001b[39m]\n\u001b[0;32m    932\u001b[0m \u001b[38;5;28mself\u001b[39m\u001b[38;5;241m.\u001b[39mhandles: IOHandles \u001b[38;5;241m|\u001b[39m \u001b[38;5;28;01mNone\u001b[39;00m \u001b[38;5;241m=\u001b[39m \u001b[38;5;28;01mNone\u001b[39;00m\n\u001b[1;32m--> 933\u001b[0m \u001b[38;5;28mself\u001b[39m\u001b[38;5;241m.\u001b[39m_engine \u001b[38;5;241m=\u001b[39m \u001b[38;5;28;43mself\u001b[39;49m\u001b[38;5;241;43m.\u001b[39;49m\u001b[43m_make_engine\u001b[49m\u001b[43m(\u001b[49m\u001b[43mf\u001b[49m\u001b[43m,\u001b[49m\u001b[43m \u001b[49m\u001b[38;5;28;43mself\u001b[39;49m\u001b[38;5;241;43m.\u001b[39;49m\u001b[43mengine\u001b[49m\u001b[43m)\u001b[49m\n",
      "File \u001b[1;32m~\\anaconda3\\lib\\site-packages\\pandas\\io\\parsers\\readers.py:1217\u001b[0m, in \u001b[0;36mTextFileReader._make_engine\u001b[1;34m(self, f, engine)\u001b[0m\n\u001b[0;32m   1213\u001b[0m     mode \u001b[38;5;241m=\u001b[39m \u001b[38;5;124m\"\u001b[39m\u001b[38;5;124mrb\u001b[39m\u001b[38;5;124m\"\u001b[39m\n\u001b[0;32m   1214\u001b[0m \u001b[38;5;66;03m# error: No overload variant of \"get_handle\" matches argument types\u001b[39;00m\n\u001b[0;32m   1215\u001b[0m \u001b[38;5;66;03m# \"Union[str, PathLike[str], ReadCsvBuffer[bytes], ReadCsvBuffer[str]]\"\u001b[39;00m\n\u001b[0;32m   1216\u001b[0m \u001b[38;5;66;03m# , \"str\", \"bool\", \"Any\", \"Any\", \"Any\", \"Any\", \"Any\"\u001b[39;00m\n\u001b[1;32m-> 1217\u001b[0m \u001b[38;5;28mself\u001b[39m\u001b[38;5;241m.\u001b[39mhandles \u001b[38;5;241m=\u001b[39m \u001b[43mget_handle\u001b[49m\u001b[43m(\u001b[49m\u001b[43m  \u001b[49m\u001b[38;5;66;43;03m# type: ignore[call-overload]\u001b[39;49;00m\n\u001b[0;32m   1218\u001b[0m \u001b[43m    \u001b[49m\u001b[43mf\u001b[49m\u001b[43m,\u001b[49m\n\u001b[0;32m   1219\u001b[0m \u001b[43m    \u001b[49m\u001b[43mmode\u001b[49m\u001b[43m,\u001b[49m\n\u001b[0;32m   1220\u001b[0m \u001b[43m    \u001b[49m\u001b[43mencoding\u001b[49m\u001b[38;5;241;43m=\u001b[39;49m\u001b[38;5;28;43mself\u001b[39;49m\u001b[38;5;241;43m.\u001b[39;49m\u001b[43moptions\u001b[49m\u001b[38;5;241;43m.\u001b[39;49m\u001b[43mget\u001b[49m\u001b[43m(\u001b[49m\u001b[38;5;124;43m\"\u001b[39;49m\u001b[38;5;124;43mencoding\u001b[39;49m\u001b[38;5;124;43m\"\u001b[39;49m\u001b[43m,\u001b[49m\u001b[43m \u001b[49m\u001b[38;5;28;43;01mNone\u001b[39;49;00m\u001b[43m)\u001b[49m\u001b[43m,\u001b[49m\n\u001b[0;32m   1221\u001b[0m \u001b[43m    \u001b[49m\u001b[43mcompression\u001b[49m\u001b[38;5;241;43m=\u001b[39;49m\u001b[38;5;28;43mself\u001b[39;49m\u001b[38;5;241;43m.\u001b[39;49m\u001b[43moptions\u001b[49m\u001b[38;5;241;43m.\u001b[39;49m\u001b[43mget\u001b[49m\u001b[43m(\u001b[49m\u001b[38;5;124;43m\"\u001b[39;49m\u001b[38;5;124;43mcompression\u001b[39;49m\u001b[38;5;124;43m\"\u001b[39;49m\u001b[43m,\u001b[49m\u001b[43m \u001b[49m\u001b[38;5;28;43;01mNone\u001b[39;49;00m\u001b[43m)\u001b[49m\u001b[43m,\u001b[49m\n\u001b[0;32m   1222\u001b[0m \u001b[43m    \u001b[49m\u001b[43mmemory_map\u001b[49m\u001b[38;5;241;43m=\u001b[39;49m\u001b[38;5;28;43mself\u001b[39;49m\u001b[38;5;241;43m.\u001b[39;49m\u001b[43moptions\u001b[49m\u001b[38;5;241;43m.\u001b[39;49m\u001b[43mget\u001b[49m\u001b[43m(\u001b[49m\u001b[38;5;124;43m\"\u001b[39;49m\u001b[38;5;124;43mmemory_map\u001b[39;49m\u001b[38;5;124;43m\"\u001b[39;49m\u001b[43m,\u001b[49m\u001b[43m \u001b[49m\u001b[38;5;28;43;01mFalse\u001b[39;49;00m\u001b[43m)\u001b[49m\u001b[43m,\u001b[49m\n\u001b[0;32m   1223\u001b[0m \u001b[43m    \u001b[49m\u001b[43mis_text\u001b[49m\u001b[38;5;241;43m=\u001b[39;49m\u001b[43mis_text\u001b[49m\u001b[43m,\u001b[49m\n\u001b[0;32m   1224\u001b[0m \u001b[43m    \u001b[49m\u001b[43merrors\u001b[49m\u001b[38;5;241;43m=\u001b[39;49m\u001b[38;5;28;43mself\u001b[39;49m\u001b[38;5;241;43m.\u001b[39;49m\u001b[43moptions\u001b[49m\u001b[38;5;241;43m.\u001b[39;49m\u001b[43mget\u001b[49m\u001b[43m(\u001b[49m\u001b[38;5;124;43m\"\u001b[39;49m\u001b[38;5;124;43mencoding_errors\u001b[39;49m\u001b[38;5;124;43m\"\u001b[39;49m\u001b[43m,\u001b[49m\u001b[43m \u001b[49m\u001b[38;5;124;43m\"\u001b[39;49m\u001b[38;5;124;43mstrict\u001b[39;49m\u001b[38;5;124;43m\"\u001b[39;49m\u001b[43m)\u001b[49m\u001b[43m,\u001b[49m\n\u001b[0;32m   1225\u001b[0m \u001b[43m    \u001b[49m\u001b[43mstorage_options\u001b[49m\u001b[38;5;241;43m=\u001b[39;49m\u001b[38;5;28;43mself\u001b[39;49m\u001b[38;5;241;43m.\u001b[39;49m\u001b[43moptions\u001b[49m\u001b[38;5;241;43m.\u001b[39;49m\u001b[43mget\u001b[49m\u001b[43m(\u001b[49m\u001b[38;5;124;43m\"\u001b[39;49m\u001b[38;5;124;43mstorage_options\u001b[39;49m\u001b[38;5;124;43m\"\u001b[39;49m\u001b[43m,\u001b[49m\u001b[43m \u001b[49m\u001b[38;5;28;43;01mNone\u001b[39;49;00m\u001b[43m)\u001b[49m\u001b[43m,\u001b[49m\n\u001b[0;32m   1226\u001b[0m \u001b[43m\u001b[49m\u001b[43m)\u001b[49m\n\u001b[0;32m   1227\u001b[0m \u001b[38;5;28;01massert\u001b[39;00m \u001b[38;5;28mself\u001b[39m\u001b[38;5;241m.\u001b[39mhandles \u001b[38;5;129;01mis\u001b[39;00m \u001b[38;5;129;01mnot\u001b[39;00m \u001b[38;5;28;01mNone\u001b[39;00m\n\u001b[0;32m   1228\u001b[0m f \u001b[38;5;241m=\u001b[39m \u001b[38;5;28mself\u001b[39m\u001b[38;5;241m.\u001b[39mhandles\u001b[38;5;241m.\u001b[39mhandle\n",
      "File \u001b[1;32m~\\anaconda3\\lib\\site-packages\\pandas\\io\\common.py:789\u001b[0m, in \u001b[0;36mget_handle\u001b[1;34m(path_or_buf, mode, encoding, compression, memory_map, is_text, errors, storage_options)\u001b[0m\n\u001b[0;32m    784\u001b[0m \u001b[38;5;28;01melif\u001b[39;00m \u001b[38;5;28misinstance\u001b[39m(handle, \u001b[38;5;28mstr\u001b[39m):\n\u001b[0;32m    785\u001b[0m     \u001b[38;5;66;03m# Check whether the filename is to be opened in binary mode.\u001b[39;00m\n\u001b[0;32m    786\u001b[0m     \u001b[38;5;66;03m# Binary mode does not support 'encoding' and 'newline'.\u001b[39;00m\n\u001b[0;32m    787\u001b[0m     \u001b[38;5;28;01mif\u001b[39;00m ioargs\u001b[38;5;241m.\u001b[39mencoding \u001b[38;5;129;01mand\u001b[39;00m \u001b[38;5;124m\"\u001b[39m\u001b[38;5;124mb\u001b[39m\u001b[38;5;124m\"\u001b[39m \u001b[38;5;129;01mnot\u001b[39;00m \u001b[38;5;129;01min\u001b[39;00m ioargs\u001b[38;5;241m.\u001b[39mmode:\n\u001b[0;32m    788\u001b[0m         \u001b[38;5;66;03m# Encoding\u001b[39;00m\n\u001b[1;32m--> 789\u001b[0m         handle \u001b[38;5;241m=\u001b[39m \u001b[38;5;28;43mopen\u001b[39;49m\u001b[43m(\u001b[49m\n\u001b[0;32m    790\u001b[0m \u001b[43m            \u001b[49m\u001b[43mhandle\u001b[49m\u001b[43m,\u001b[49m\n\u001b[0;32m    791\u001b[0m \u001b[43m            \u001b[49m\u001b[43mioargs\u001b[49m\u001b[38;5;241;43m.\u001b[39;49m\u001b[43mmode\u001b[49m\u001b[43m,\u001b[49m\n\u001b[0;32m    792\u001b[0m \u001b[43m            \u001b[49m\u001b[43mencoding\u001b[49m\u001b[38;5;241;43m=\u001b[39;49m\u001b[43mioargs\u001b[49m\u001b[38;5;241;43m.\u001b[39;49m\u001b[43mencoding\u001b[49m\u001b[43m,\u001b[49m\n\u001b[0;32m    793\u001b[0m \u001b[43m            \u001b[49m\u001b[43merrors\u001b[49m\u001b[38;5;241;43m=\u001b[39;49m\u001b[43merrors\u001b[49m\u001b[43m,\u001b[49m\n\u001b[0;32m    794\u001b[0m \u001b[43m            \u001b[49m\u001b[43mnewline\u001b[49m\u001b[38;5;241;43m=\u001b[39;49m\u001b[38;5;124;43m\"\u001b[39;49m\u001b[38;5;124;43m\"\u001b[39;49m\u001b[43m,\u001b[49m\n\u001b[0;32m    795\u001b[0m \u001b[43m        \u001b[49m\u001b[43m)\u001b[49m\n\u001b[0;32m    796\u001b[0m     \u001b[38;5;28;01melse\u001b[39;00m:\n\u001b[0;32m    797\u001b[0m         \u001b[38;5;66;03m# Binary mode\u001b[39;00m\n\u001b[0;32m    798\u001b[0m         handle \u001b[38;5;241m=\u001b[39m \u001b[38;5;28mopen\u001b[39m(handle, ioargs\u001b[38;5;241m.\u001b[39mmode)\n",
      "\u001b[1;31mFileNotFoundError\u001b[0m: [Errno 2] No such file or directory: 'wells.csv'"
     ]
    }
   ],
   "source": [
    "df4 = pd.read_csv('wells.csv')\n",
    "df4.head()"
   ]
  },
  {
   "cell_type": "code",
   "execution_count": null,
   "id": "1ab70629",
   "metadata": {},
   "outputs": [],
   "source": []
  }
 ],
 "metadata": {
  "kernelspec": {
   "display_name": "Python 3 (ipykernel)",
   "language": "python",
   "name": "python3"
  },
  "language_info": {
   "codemirror_mode": {
    "name": "ipython",
    "version": 3
   },
   "file_extension": ".py",
   "mimetype": "text/x-python",
   "name": "python",
   "nbconvert_exporter": "python",
   "pygments_lexer": "ipython3",
   "version": "3.9.12"
  }
 },
 "nbformat": 4,
 "nbformat_minor": 5
}
